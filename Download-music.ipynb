{
 "cells": [
  {
   "cell_type": "code",
   "execution_count": null,
   "source": [
    "import os"
   ],
   "outputs": [],
   "metadata": {}
  },
  {
   "cell_type": "code",
   "execution_count": null,
   "source": [
    "os.chdir('/Users/kunal/Documents/Music/')"
   ],
   "outputs": [],
   "metadata": {}
  },
  {
   "cell_type": "code",
   "execution_count": null,
   "source": [
    "from __future__ import unicode_literals\r\n",
    "import youtube_dl\r\n",
    "\r\n",
    "\r\n",
    "ydl_opts = {\r\n",
    "    'format': 'bestaudio/best',\r\n",
    "    'postprocessors': [{\r\n",
    "        'key': 'FFmpegExtractAudio',\r\n",
    "        'preferredcodec': 'mp3',\r\n",
    "        'preferredquality': '192',\r\n",
    "    }],\r\n",
    "}\r\n",
    "with youtube_dl.YoutubeDL(ydl_opts) as ydl:\r\n",
    "    ydl.download(['https://www.youtube.com/watch?v=Q_kT2HdWv6s'])"
   ],
   "outputs": [],
   "metadata": {}
  },
  {
   "cell_type": "code",
   "execution_count": null,
   "source": [
    "from tkinter import Tk\r\n",
    "import threading\r\n",
    "import time\r\n",
    "import youtube_dl\r\n",
    "# #######################\r\n",
    "MAX_YOUTUBE_DL_THREADS = 4\r\n",
    "# #######################\r\n",
    "\r\n",
    "root = Tk()\r\n",
    "linkBuffer = []\r\n",
    "semaphor = threading.Semaphore(0)\r\n",
    "maxthreads = threading.BoundedSemaphore(MAX_YOUTUBE_DL_THREADS)\r\n",
    "\r\n",
    "def getClipboard():\r\n",
    "    x = root.clipboard_get()\r\n",
    "    return x\r\n",
    "\r\n",
    "def watch_clipboard():\r\n",
    "    print(\"Comecei a assistir os links\")\r\n",
    "    new = getClipboard()\r\n",
    "    while True:\r\n",
    "\r\n",
    "        old = getClipboard()\r\n",
    "        while old == new:\r\n",
    "            new = getClipboard()\r\n",
    "            time.sleep(0.1)\r\n",
    "        if \"www.youtube.com\" in new:\r\n",
    "            save_link(new)\r\n",
    "            semaphor.release()\r\n",
    "\r\n",
    "\r\n",
    "def save_link(link):\r\n",
    "    linkBuffer.append(link)\r\n",
    "\r\n",
    "\r\n",
    "class LinksWatcher:\r\n",
    "    def __init__(self):\r\n",
    "        self.watcher()\r\n",
    "\r\n",
    "    def watcher(self):\r\n",
    "        print(\"O programa está ouvindo novos links...\")\r\n",
    "        while True:\r\n",
    "            semaphor.acquire()\r\n",
    "            maxthreads.acquire()\r\n",
    "            link = linkBuffer.pop(0)\r\n",
    "            tr = threading.Thread(target=self.download, args=([link]))\r\n",
    "            tr.start()\r\n",
    "    def download(self, link):\r\n",
    "        print(\"Link detectado...\")\r\n",
    "        print(\"O video \" + link + \" será baixado\")\r\n",
    "        opts = {\r\n",
    "            'postprocessors': [{\r\n",
    "                'key': 'FFmpegExtractAudio',\r\n",
    "                'preferredcodec': 'mp3',\r\n",
    "                'preferredquality': '192',\r\n",
    "            }]\r\n",
    "        }\r\n",
    "        youtube_dl.YoutubeDL(opts).download([link])\r\n",
    "        maxthreads.release()\r\n",
    "\r\n",
    "print(\"O programa vai iniciar\")\r\n",
    "\r\n",
    "\r\n",
    "links_watcher  =  threading.Thread(target=LinksWatcher)\r\n",
    "links_watcher.start()\r\n",
    "\r\n",
    "watch_clipboard()"
   ],
   "outputs": [],
   "metadata": {}
  },
  {
   "cell_type": "code",
   "execution_count": null,
   "source": [
    "https://www.youtube.com/watch?v=Q_kT2HdWv6s"
   ],
   "outputs": [],
   "metadata": {}
  },
  {
   "cell_type": "code",
   "execution_count": null,
   "source": [
    "from pytube import YouTube\r\n",
    "from moviepy.editor import *"
   ],
   "outputs": [],
   "metadata": {}
  },
  {
   "cell_type": "code",
   "execution_count": null,
   "source": [
    "\r\n",
    "# download a file from youtube\r\n",
    "youtube_link = 'https://www.youtube.com/watch?v=yourtubevideos'\r\n",
    "w = YouTube(youtube_link).streams.first()\r\n",
    "w.download(output_path=\"/Users/kunal/Documents/Music/)\r\n",
    " \r\n",
    "\r\n"
   ],
   "outputs": [],
   "metadata": {}
  },
  {
   "cell_type": "code",
   "execution_count": null,
   "source": [
    "# download a file with only audio, to save space\r\n",
    "# if the final goal is to convert to mp3\r\n",
    "youtube_link = 'https://www.youtube.com/watch?v=eIc4mqyN1Q8'\r\n",
    "y = YouTube(youtube_link)\r\n",
    "t = y.streams.filter(only_audio=True).all()\r\n",
    "t[0].download(output_path=\"/Users/kunal/Documents/Music/\")"
   ],
   "outputs": [],
   "metadata": {}
  },
  {
   "cell_type": "code",
   "execution_count": null,
   "source": [],
   "outputs": [],
   "metadata": {}
  },
  {
   "cell_type": "code",
   "execution_count": null,
   "source": [
    "import requests\r\n",
    "import re\r\n",
    "from bs4 import BeautifulSoup\r\n",
    " \r\n",
    "website = 'https://www.youtube.com/playlist?list=yourfavouriteplaylist'\r\n",
    "r= requests.get(website)\r\n",
    "soup = BeautifulSoup(r.text)\r\n",
    " \r\n",
    "tgt_list = [a['href'] for a in soup.find_all('a', href=True)]\r\n",
    "tgt_list = [n for n in tgt_list if re.search('watch',n)]\r\n",
    " \r\n",
    "unique_list= []\r\n",
    "for n in tgt_list:\r\n",
    "    if n not in unique_list:\r\n",
    "        unique_list.append(n)\r\n",
    " \r\n",
    "# all the videos link in a playlist\r\n",
    "unique_list = ['https://www.youtube.com' + n for n in unique_list]\r\n",
    " \r\n",
    "for link in unique_list:\r\n",
    "    print(link)\r\n",
    "    y = YouTube(link)\r\n",
    "    t = y.streams.all()\r\n",
    "    t[0].download(output_path=\"/Users/kunal/Documents/Music/\")"
   ],
   "outputs": [],
   "metadata": {}
  },
  {
   "cell_type": "code",
   "execution_count": null,
   "source": [
    "import moviepy.editor as mp\r\n",
    "import re\r\n",
    "tgt_folder = \"/Users/kunal/Documents/Music/\"\r\n",
    " \r\n",
    "for file in [n for n in os.listdir(tgt_folder) if re.search('mp4',n)]:\r\n",
    "full_path = os.path.join(tgt_folder, file)\r\n",
    "output_path = os.path.join(tgt_folder, os.path.splitext(file)[0] + '.mp3')\r\n",
    "clip = mp.AudioFileClip(full_path).subclip(10,) # disable if do not want any clipping\r\n",
    "clip.write_audiofile(output_path)\r\n"
   ],
   "outputs": [],
   "metadata": {}
  },
  {
   "cell_type": "code",
   "execution_count": null,
   "source": [],
   "outputs": [],
   "metadata": {}
  }
 ],
 "metadata": {
  "kernelspec": {
   "display_name": "Python 3",
   "language": "python",
   "name": "python3"
  },
  "language_info": {
   "codemirror_mode": {
    "name": "ipython",
    "version": 3
   },
   "file_extension": ".py",
   "mimetype": "text/x-python",
   "name": "python",
   "nbconvert_exporter": "python",
   "pygments_lexer": "ipython3",
   "version": "3.8.6"
  }
 },
 "nbformat": 4,
 "nbformat_minor": 2
}